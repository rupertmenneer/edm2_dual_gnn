{
 "cells": [
  {
   "cell_type": "code",
   "execution_count": 1,
   "metadata": {},
   "outputs": [
    {
     "name": "stdout",
     "output_type": "stream",
     "text": [
      "Found 118287 complete datapoint in /Users/rupertmenneer/Downloads/coco_graph_train\n",
      "torch.Size([1024, 1])\n"
     ]
    },
    {
     "data": {
      "text/plain": [
       "RelaxedHeteroData(\n",
       "  image=[1, 8, 32, 32],\n",
       "  mask=[1, 1, 256, 256],\n",
       "  mask_path='/Users/rupertmenneer/Downloads/coco_graph_train/00000010_mask.npy',\n",
       "  image_node={\n",
       "    x=[1024, 1],\n",
       "    pos=[1024, 2],\n",
       "  },\n",
       "  class_node={\n",
       "    x=[2, 183],\n",
       "    pos=[2, 2],\n",
       "    label=[2],\n",
       "  },\n",
       "  (class_node, class_edge, class_node)={ edge_index=[2, 2] },\n",
       "  (class_node, class_to_image, image_node)={ edge_index=[2, 1021] }\n",
       ")"
      ]
     },
     "execution_count": 1,
     "metadata": {},
     "output_type": "execute_result"
    }
   ],
   "source": [
    "from hig_data.coco import COCOStuffGraphPrecomputedDataset\n",
    "import torch\n",
    "path = '/Users/rupertmenneer/Downloads/coco_graph_train'\n",
    "coco_graph = COCOStuffGraphPrecomputedDataset(path)\n",
    "data = coco_graph[10]\n",
    "data"
   ]
  },
  {
   "cell_type": "code",
   "execution_count": 16,
   "metadata": {},
   "outputs": [
    {
     "data": {
      "text/plain": [
       "{'edge_index': tensor([[  0,   0,   0,  ...,   1,   1,   1],\n",
       "        [ 16,  17,  18,  ..., 993, 994, 995]])}"
      ]
     },
     "execution_count": 16,
     "metadata": {},
     "output_type": "execute_result"
    }
   ],
   "source": [
    "data['class_to_image']"
   ]
  },
  {
   "cell_type": "code",
   "execution_count": null,
   "metadata": {},
   "outputs": [],
   "source": [
    "import numpy as np\n",
    "import matplotlib.pyplot as plt\n",
    "\n",
    "# Extract the 2nd column from edge_index\n",
    "linear_image_ids = data['class_to_image'].edge_index[1]\n",
    "class_image_ids = data['class_to_image'].edge_index[0]\n",
    "\n",
    "# Initialize a 32x32 image with zeros\n",
    "image = np.zeros((32, 32))\n",
    "\n",
    "# Convert linear indices to 2D indices and set the corresponding pixels to 1\n",
    "for idx in range(len(linear_image_ids)):\n",
    "    img_idx = linear_image_ids[idx]\n",
    "    class_idx = class_image_ids[idx]\n",
    "    row = img_idx // 32\n",
    "    col = img_idx % 32\n",
    "    image[row, col] = class_idx + 1\n",
    "\n",
    "# Display the image\n",
    "plt.imshow(image,)\n",
    "\n",
    "plt.show()"
   ]
  },
  {
   "cell_type": "code",
   "execution_count": null,
   "metadata": {},
   "outputs": [],
   "source": [
    "import PIL\n",
    "image_data = np.load(data.mask_path)\n",
    "print(image_data.shape)\n",
    "plt.imshow(image_data.transpose(1, 2, 0))"
   ]
  },
  {
   "cell_type": "code",
   "execution_count": null,
   "metadata": {},
   "outputs": [],
   "source": [
    "import torch\n",
    "class_labels = torch.argmax(data['class_node'].x[:, 1:], dim=1)\n",
    "class_labels"
   ]
  },
  {
   "cell_type": "code",
   "execution_count": 6,
   "metadata": {},
   "outputs": [
    {
     "name": "stdout",
     "output_type": "stream",
     "text": [
      "torch.Size([1024, 1])\n",
      "torch.Size([1024, 1])\n",
      "torch.Size([1024, 1])\n",
      "torch.Size([1024, 1])\n",
      "torch.Size([1024, 1])\n",
      "torch.Size([1024, 1])\n",
      "torch.Size([1024, 1])\n",
      "torch.Size([1024, 1])\n",
      "torch.Size([1024, 1])\n",
      "torch.Size([1024, 1])\n",
      "torch.Size([1024, 1])\n",
      "torch.Size([1024, 1])\n",
      "torch.Size([1024, 1])\n",
      "torch.Size([1024, 1])\n",
      "torch.Size([1024, 1])\n",
      "torch.Size([1024, 1])\n",
      "torch.Size([1024, 1])\n",
      "torch.Size([1024, 1])\n",
      "torch.Size([1024, 1])\n",
      "torch.Size([1024, 1])\n",
      "torch.Size([1024, 1])\n",
      "torch.Size([1024, 1])\n",
      "torch.Size([1024, 1])\n",
      "torch.Size([1024, 1])\n",
      "torch.Size([1024, 1])\n",
      "torch.Size([1024, 1])\n",
      "torch.Size([1024, 1])\n",
      "torch.Size([1024, 1])\n",
      "torch.Size([1024, 1])\n",
      "torch.Size([1024, 1])\n",
      "torch.Size([1024, 1])\n",
      "torch.Size([1024, 1])\n"
     ]
    },
    {
     "data": {
      "text/plain": [
       "RelaxedHeteroDataBatch(\n",
       "  image=[32, 8, 32, 32],\n",
       "  mask=[32, 1, 256, 256],\n",
       "  mask_path=[32],\n",
       "  image_node={\n",
       "    x=[32768, 1],\n",
       "    pos=[32768, 2],\n",
       "    batch=[32768],\n",
       "    ptr=[33],\n",
       "  },\n",
       "  class_node={\n",
       "    x=[260, 183],\n",
       "    pos=[260, 2],\n",
       "    label=[260],\n",
       "    batch=[260],\n",
       "    ptr=[33],\n",
       "  },\n",
       "  (class_node, class_edge, class_node)={ edge_index=[2, 2726] },\n",
       "  (class_node, class_to_image, image_node)={ edge_index=[2, 30645] }\n",
       ")"
      ]
     },
     "execution_count": 6,
     "metadata": {},
     "output_type": "execute_result"
    }
   ],
   "source": [
    "from torch_geometric.loader import DataLoader as GeoDataLoader\n",
    "dls = GeoDataLoader(coco_graph, batch_size=32, shuffle=True)\n",
    "graph_batch = next(iter(dls))\n",
    "graph_batch\n",
    "\n",
    "# graph_batch['image_node'].pos, graph_batch['class_node'].pos"
   ]
  },
  {
   "cell_type": "code",
   "execution_count": 32,
   "metadata": {},
   "outputs": [
    {
     "data": {
      "text/plain": [
       "{'edge_index': tensor([[   0,    0,    0,  ...,   11,   11,   11],\n",
       "        [ 204,  236,  267,  ..., 2019, 2020, 2021]])}"
      ]
     },
     "execution_count": 32,
     "metadata": {},
     "output_type": "execute_result"
    }
   ],
   "source": [
    "graph_batch['class_to_image']"
   ]
  },
  {
   "cell_type": "code",
   "execution_count": 11,
   "metadata": {},
   "outputs": [
    {
     "data": {
      "text/plain": [
       "RelaxedHeteroData(\n",
       "  image=[1, 8, 32, 32],\n",
       "  mask=[1, 1, 256, 256],\n",
       "  mask_path='/Users/rupertmenneer/Downloads/coco_graph_train/00099649_mask.npy',\n",
       "  image_node={\n",
       "    x=[1024, 1],\n",
       "    pos=[1024, 2],\n",
       "  },\n",
       "  class_node={\n",
       "    x=[20, 183],\n",
       "    pos=[20, 2],\n",
       "    label=[20],\n",
       "  },\n",
       "  (class_node, class_edge, class_node)={ edge_index=[2, 380] },\n",
       "  (class_node, class_to_image, image_node)={ edge_index=[2, 1022] }\n",
       ")"
      ]
     },
     "execution_count": 11,
     "metadata": {},
     "output_type": "execute_result"
    }
   ],
   "source": [
    "batch_list = graph_batch.to_data_list()\n",
    "batch_list[1]\n"
   ]
  },
  {
   "cell_type": "code",
   "execution_count": 7,
   "metadata": {},
   "outputs": [],
   "source": [
    "from training.networks_edm2_hignn import Precond\n",
    "precond = Precond(32, 4, gnn_metadata = graph_batch.metadata())"
   ]
  },
  {
   "cell_type": "code",
   "execution_count": 8,
   "metadata": {},
   "outputs": [
    {
     "data": {
      "text/plain": [
       "torch.Size([32, 192, 32, 32])"
      ]
     },
     "execution_count": 8,
     "metadata": {},
     "output_type": "execute_result"
    }
   ],
   "source": [
    "\n",
    "hignn = precond.unet.init_hignn\n",
    "blank_image = torch.zeros((32, 192, 32, 32))\n",
    "out, new_graph = hignn(blank_image, graph_batch.clone())\n",
    "out.shape"
   ]
  },
  {
   "cell_type": "code",
   "execution_count": 14,
   "metadata": {},
   "outputs": [],
   "source": []
  },
  {
   "cell_type": "code",
   "execution_count": null,
   "metadata": {},
   "outputs": [],
   "source": [
    "out_split.shape"
   ]
  },
  {
   "cell_type": "code",
   "execution_count": 15,
   "metadata": {},
   "outputs": [
    {
     "name": "stderr",
     "output_type": "stream",
     "text": [
      "Clipping input data to the valid range for imshow with RGB data ([0..1] for floats or [0..255] for integers).\n",
      "Clipping input data to the valid range for imshow with RGB data ([0..1] for floats or [0..255] for integers).\n",
      "Clipping input data to the valid range for imshow with RGB data ([0..1] for floats or [0..255] for integers).\n",
      "Clipping input data to the valid range for imshow with RGB data ([0..1] for floats or [0..255] for integers).\n",
      "Clipping input data to the valid range for imshow with RGB data ([0..1] for floats or [0..255] for integers).\n",
      "Clipping input data to the valid range for imshow with RGB data ([0..1] for floats or [0..255] for integers).\n",
      "Clipping input data to the valid range for imshow with RGB data ([0..1] for floats or [0..255] for integers).\n",
      "Clipping input data to the valid range for imshow with RGB data ([0..1] for floats or [0..255] for integers).\n"
     ]
    },
    {
     "data": {
      "image/png": "[encoded data removed]",
      "text/plain": [
       "<Figure size 3000x3000 with 8 Axes>"
      ]
     },
     "metadata": {},
     "output_type": "display_data"
    },
    {
     "data": {
      "image/png": "[encoded data removed]",
      "text/plain": [
       "<Figure size 600x1500 with 1 Axes>"
      ]
     },
     "metadata": {},
     "output_type": "display_data"
    }
   ],
   "source": [
    "from hig_data.visualisation import plot_array_images\n",
    "i = 5\n",
    "out_split = torch.cat(torch.chunk(out[i:i+1], 64, dim=1), dim=0)\n",
    "plot_array_images(out_split.detach())\n",
    "plot_array_images(batch_list[i].mask)"
   ]
  },
  {
   "cell_type": "code",
   "execution_count": null,
   "metadata": {},
   "outputs": [],
   "source": [
    "precond.unet.enc['32x32_block0'].emb_linear.weight.shape, precond.unet.enc['32x32_block0'].hignn.gnn.gnn_layers[0]['image_node'].weight.shape"
   ]
  },
  {
   "cell_type": "code",
   "execution_count": null,
   "metadata": {},
   "outputs": [],
   "source": [
    "precond.unet.enc['32x32_block0'].hignn.gnn.gnn_layers[0]['image_node'].weight"
   ]
  },
  {
   "cell_type": "code",
   "execution_count": null,
   "metadata": {},
   "outputs": [],
   "source": [
    "import torch\n",
    "torch.set_printoptions(precision=20)\n",
    "out[1]"
   ]
  },
  {
   "cell_type": "code",
   "execution_count": null,
   "metadata": {},
   "outputs": [],
   "source": [
    "import torch\n",
    "images = torch.randn(1, 3, 32, 32)\n",
    "rnd_normal = torch.randn([images.shape[0], 1, 1, 1], device=images.device)\n",
    "sigma = (rnd_normal).exp()\n",
    "\n",
    "data = coco_graph[1]\n",
    "out = precond(images, sigma, data)\n",
    "out.shape"
   ]
  },
  {
   "cell_type": "code",
   "execution_count": null,
   "metadata": {},
   "outputs": [],
   "source": [
    "from training.training_loop_hignn import training_loop\n",
    "import torch\n",
    "from torch_utils import distributed as dist\n",
    "torch.multiprocessing.set_start_method('spawn')\n",
    "dist.init()\n",
    "dist.print0('Setting up training config...')\n",
    "training_loop(dataset_kwargs=dict(class_name='hig_data.coco.CocoStuffGraphDataset',\n",
    "image_path=img_path, mask_path=mask_path, latent_images=True),)"
   ]
  },
  {
   "cell_type": "code",
   "execution_count": null,
   "metadata": {},
   "outputs": [],
   "source": []
  }
 ],
 "metadata": {
  "kernelspec": {
   "display_name": "Python 3 (ipykernel)",
   "language": "python",
   "name": "python3"
  },
  "language_info": {
   "codemirror_mode": {
    "name": "ipython",
    "version": 3
   },
   "file_extension": ".py",
   "mimetype": "text/x-python",
   "name": "python",
   "nbconvert_exporter": "python",
   "pygments_lexer": "ipython3",
   "version": "3.11.10"
  }
 },
 "nbformat": 4,
 "nbformat_minor": 2
}
