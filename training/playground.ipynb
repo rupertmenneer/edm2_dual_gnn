{
 "cells": [
  {
   "cell_type": "code",
   "execution_count": 1,
   "metadata": {},
   "outputs": [
    {
     "name": "stdout",
     "output_type": "stream",
     "text": [
      "Found 118287 complete datapoint in /Users/rupertmenneer/Downloads/coco_graph_train\n"
     ]
    },
    {
     "data": {
      "text/plain": [
       "RelaxedHeteroData(\n",
       "  image=[1, 8, 32, 32],\n",
       "  mask=[1, 1, 256, 256],\n",
       "  mask_path='/Users/rupertmenneer/Downloads/coco_graph_train/00000010_mask.npy',\n",
       "  image_node={\n",
       "    x=[1],\n",
       "    pos=[1024, 2],\n",
       "  },\n",
       "  class_node={\n",
       "    x=[2, 183],\n",
       "    pos=[2, 2],\n",
       "    label=[2],\n",
       "  },\n",
       "  (class_node, class_edge, class_node)={ edge_index=[2, 2] },\n",
       "  (class_node, class_to_image, image_node)={ edge_index=[2, 1021] }\n",
       ")"
      ]
     },
     "execution_count": 1,
     "metadata": {},
     "output_type": "execute_result"
    }
   ],
   "source": [
    "from hig_data.coco import COCOStuffGraphPrecomputedDataset\n",
    "import torch\n",
    "path = '/Users/rupertmenneer/Downloads/coco_graph_train'\n",
    "coco_graph = COCOStuffGraphPrecomputedDataset(path)\n",
    "data = coco_graph[10]\n",
    "data"
   ]
  },
  {
   "cell_type": "code",
   "execution_count": null,
   "metadata": {},
   "outputs": [],
   "source": [
    "from torch_geometric.loader import DataLoader as GeoDataLoader\n",
    "dls = GeoDataLoader(coco_graph, batch_size=32, shuffle=True)\n",
    "graph_batch = next(iter(dls))\n",
    "graph_batch"
   ]
  },
  {
   "cell_type": "code",
   "execution_count": null,
   "metadata": {},
   "outputs": [],
   "source": [
    "from training.networks_edm2_hignn import Precond\n",
    "precond = Precond(32, 4, gnn_metadata = graph_batch.metadata())a\n",
    "hignn = precond.unet.init_hignn\n",
    "blank_image = torch.zeros((32, 192, 32, 32))\n",
    "out, new_graph = hignn(blank_image, graph_batch.clone())\n",
    "out.shape"
   ]
  },
  {
   "cell_type": "code",
   "execution_count": null,
   "metadata": {},
   "outputs": [],
   "source": [
    "from hig_data.visualisation import plot_array_images\n",
    "i = 5\n",
    "batch_list = graph_batch.to_data_list()\n",
    "out_split = torch.cat(torch.chunk(out[i:i+1], 64, dim=1), dim=0)\n",
    "plot_array_images(out_split.detach())\n",
    "plot_array_images(batch_list[i].mask)"
   ]
  },
  {
   "cell_type": "code",
   "execution_count": null,
   "metadata": {},
   "outputs": [],
   "source": []
  },
  {
   "cell_type": "code",
   "execution_count": null,
   "metadata": {},
   "outputs": [],
   "source": []
  },
  {
   "cell_type": "code",
   "execution_count": null,
   "metadata": {},
   "outputs": [],
   "source": []
  },
  {
   "cell_type": "code",
   "execution_count": null,
   "metadata": {},
   "outputs": [],
   "source": [
    "import numpy as np\n",
    "import matplotlib.pyplot as plt\n",
    "\n",
    "# Extract the 2nd column from edge_index\n",
    "linear_image_ids = data['class_to_image'].edge_index[1]\n",
    "class_image_ids = data['class_to_image'].edge_index[0]\n",
    "\n",
    "# Initialize a 32x32 image with zeros\n",
    "image = np.zeros((32, 32))\n",
    "\n",
    "# Convert linear indices to 2D indices and set the corresponding pixels to 1\n",
    "for idx in range(len(linear_image_ids)):\n",
    "    img_idx = linear_image_ids[idx]\n",
    "    class_idx = class_image_ids[idx]\n",
    "    row = img_idx // 32\n",
    "    col = img_idx % 32\n",
    "    image[row, col] = class_idx + 1\n",
    "\n",
    "# Display the image\n",
    "plt.imshow(image,)\n",
    "\n",
    "plt.show()"
   ]
  },
  {
   "cell_type": "code",
   "execution_count": null,
   "metadata": {},
   "outputs": [],
   "source": [
    "import PIL\n",
    "image_data = np.load(data.mask_path)\n",
    "print(image_data.shape)\n",
    "plt.imshow(image_data.transpose(1, 2, 0))"
   ]
  },
  {
   "cell_type": "code",
   "execution_count": null,
   "metadata": {},
   "outputs": [],
   "source": [
    "import torch\n",
    "images = torch.randn(1, 3, 32, 32)\n",
    "rnd_normal = torch.randn([images.shape[0], 1, 1, 1], device=images.device)\n",
    "sigma = (rnd_normal).exp()\n",
    "\n",
    "data = coco_graph[1]\n",
    "out = precond(images, sigma, data)\n",
    "out.shape"
   ]
  }
 ],
 "metadata": {
  "kernelspec": {
   "display_name": "Python 3 (ipykernel)",
   "language": "python",
   "name": "python3"
  },
  "language_info": {
   "codemirror_mode": {
    "name": "ipython",
    "version": 3
   },
   "file_extension": ".py",
   "mimetype": "text/x-python",
   "name": "python",
   "nbconvert_exporter": "python",
   "pygments_lexer": "ipython3",
   "version": "3.11.10"
  }
 },
 "nbformat": 4,
 "nbformat_minor": 2
}
