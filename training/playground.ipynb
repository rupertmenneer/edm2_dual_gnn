{
 "cells": [
  {
   "cell_type": "code",
   "execution_count": 3,
   "metadata": {},
   "outputs": [
    {
     "data": {
      "text/plain": [
       "RelaxedHeteroData(\n",
       "  image=[1, 8, 32, 32],\n",
       "  mask=[1, 1, 256, 256],\n",
       "  image_node={\n",
       "    x=[1024, 1],\n",
       "    pos=[1024, 2],\n",
       "  },\n",
       "  class_node={\n",
       "    x=[3, 183],\n",
       "    pos=[3, 2],\n",
       "  },\n",
       "  (class_node, class_edge, class_node)={ edge_index=[2, 6] },\n",
       "  (class_node, class_to_image, image_node)={ edge_index=[2, 971] }\n",
       ")"
      ]
     },
     "execution_count": 3,
     "metadata": {},
     "output_type": "execute_result"
    }
   ],
   "source": [
    "from hig_data.coco import COCOStuffDataset, CocoStuffGraphDataset\n",
    "import torch\n",
    "base = '/home/rfsm2/rds/hpc-work/'\n",
    "img_path = base+'coco_val2017_256-sd.zip'\n",
    "mask_path = base+'coco_val2017_masks_256.zip'\n",
    "coco_graph = CocoStuffGraphDataset(img_path, mask_path, latent_images=True)\n",
    "data = coco_graph[4]\n",
    "data\n",
    "\n"
   ]
  },
  {
   "cell_type": "code",
   "execution_count": 4,
   "metadata": {},
   "outputs": [],
   "source": [
    "from training.networks_edm2_hignn import Precond\n",
    "precond = Precond(32, 3, gnn_metadata = data.metadata())"
   ]
  },
  {
   "cell_type": "code",
   "execution_count": 5,
   "metadata": {},
   "outputs": [
    {
     "data": {
      "text/plain": [
       "torch.Size([1, 3, 32, 32])"
      ]
     },
     "execution_count": 5,
     "metadata": {},
     "output_type": "execute_result"
    }
   ],
   "source": [
    "import torch\n",
    "images = torch.randn(1, 3, 32, 32)\n",
    "rnd_normal = torch.randn([images.shape[0], 1, 1, 1], device=images.device)\n",
    "sigma = (rnd_normal).exp()\n",
    "\n",
    "data = coco_graph[1]\n",
    "out = precond(images, sigma, data)\n",
    "out.shape"
   ]
  },
  {
   "cell_type": "code",
   "execution_count": 8,
   "metadata": {},
   "outputs": [
    {
     "name": "stdout",
     "output_type": "stream",
     "text": [
      "Setting up training config...\n",
      "Loading dataset...\n",
      "Setting up encoder...\n",
      "ref_image torch.Size([1, 8, 32, 32])\n",
      "Constructing network...\n",
      "\n",
      "Precond                Parameters  Buffers  Output shape        Datatype\n",
      "---                    ---         ---      ---                 ---     \n",
      "unet.emb_fourier       -           384      [256, 192]          float32 \n",
      "unet.emb_noise         147456      -        [256, 768]          float32 \n",
      "unet.enc.32x32_conv    8640        -        [256, 192, 32, 32]  float16 \n",
      "unet.enc.32x32_block0  811009      -        [256, 192, 32, 32]  float16 \n",
      "unet.enc.32x32_block1  811009      -        [256, 192, 32, 32]  float16 \n",
      "unet.enc.32x32_block2  811009      -        [256, 192, 32, 32]  float16 \n",
      "unet.enc.16x16_down    811009      -        [256, 192, 16, 16]  float16 \n",
      "unet.enc.16x16_block0  3022849     -        [256, 384, 16, 16]  float16 \n",
      "unet.enc.16x16_block1  2949121     -        [256, 384, 16, 16]  float16 \n",
      "unet.enc.16x16_block2  2949121     -        [256, 384, 16, 16]  float16 \n",
      "unet.enc.8x8_down      2949121     -        [256, 384, 8, 8]    float16 \n",
      "unet.enc.8x8_block0    7962625     -        [256, 576, 8, 8]    float16 \n",
      "unet.enc.8x8_block1    7741441     -        [256, 576, 8, 8]    float16 \n",
      "unet.enc.8x8_block2    7741441     -        [256, 576, 8, 8]    float16 \n",
      "unet.enc.4x4_down      6414337     -        [256, 576, 4, 4]    float16 \n",
      "unet.enc.4x4_block0    14008321    -        [256, 768, 4, 4]    float16 \n",
      "unet.enc.4x4_block1    13565953    -        [256, 768, 4, 4]    float16 \n",
      "unet.enc.4x4_block2    13565953    -        [256, 768, 4, 4]    float16 \n",
      "unet.dec.4x4_in0       13565953    -        [256, 768, 4, 4]    float16 \n",
      "unet.dec.4x4_in1       11206657    -        [256, 768, 4, 4]    float16 \n",
      "unet.dec.4x4_block0    20054017    -        [256, 768, 4, 4]    float16 \n",
      "unet.dec.4x4_block1    20054017    -        [256, 768, 4, 4]    float16 \n",
      "unet.dec.4x4_block2    20054017    -        [256, 768, 4, 4]    float16 \n",
      "unet.dec.4x4_block3    18579457    -        [256, 768, 4, 4]    float16 \n",
      "unet.dec.8x8_up        11206657    -        [256, 768, 8, 8]    float16 \n",
      "unet.dec.8x8_block0    12496897    -        [256, 576, 8, 8]    float16 \n",
      "unet.dec.8x8_block1    11390977    -        [256, 576, 8, 8]    float16 \n",
      "unet.dec.8x8_block2    11390977    -        [256, 576, 8, 8]    float16 \n",
      "unet.dec.8x8_block3    10285057    -        [256, 576, 8, 8]    float16 \n",
      "unet.dec.16x16_up      6414337     -        [256, 576, 16, 16]  float16 \n",
      "unet.dec.16x16_block0  5308417     -        [256, 384, 16, 16]  float16 \n",
      "unet.dec.16x16_block1  4571137     -        [256, 384, 16, 16]  float16 \n",
      "unet.dec.16x16_block2  4571137     -        [256, 384, 16, 16]  float16 \n",
      "unet.dec.16x16_block3  3833857     -        [256, 384, 16, 16]  float16 \n",
      "unet.dec.32x32_up      2949121     -        [256, 384, 32, 32]  float16 \n",
      "unet.dec.32x32_block0  1585153     -        [256, 192, 32, 32]  float16 \n",
      "unet.dec.32x32_block1  1216513     -        [256, 192, 32, 32]  float16 \n",
      "unet.dec.32x32_block2  1216513     -        [256, 192, 32, 32]  float16 \n",
      "unet.dec.32x32_block3  1216513     -        [256, 192, 32, 32]  float16 \n",
      "unet.out_conv          6912        -        [256, 4, 32, 32]    float16 \n",
      "unet                   1           -        [256, 4, 32, 32]    float16 \n",
      "<top-level>            128         256      [256, 4, 32, 32]    float32 \n",
      "---                    ---         ---      ---                 ---     \n",
      "Total                  279444837   640      -                   -       \n",
      "\n",
      "Setting up training state...\n",
      "Training from 0 kimg to 8589934 kimg:\n",
      "\n"
     ]
    },
    {
     "ename": "TypeError",
     "evalue": "cannot pickle 'BufferedReader' instances",
     "output_type": "error",
     "traceback": [
      "\u001b[0;31m---------------------------------------------------------------------------\u001b[0m",
      "\u001b[0;31mTypeError\u001b[0m                                 Traceback (most recent call last)",
      "Cell \u001b[0;32mIn[8], line 7\u001b[0m\n\u001b[1;32m      5\u001b[0m dist\u001b[38;5;241m.\u001b[39minit()\n\u001b[1;32m      6\u001b[0m dist\u001b[38;5;241m.\u001b[39mprint0(\u001b[38;5;124m'\u001b[39m\u001b[38;5;124mSetting up training config...\u001b[39m\u001b[38;5;124m'\u001b[39m)\n\u001b[0;32m----> 7\u001b[0m \u001b[43mtraining_loop\u001b[49m\u001b[43m(\u001b[49m\u001b[43mdataset_kwargs\u001b[49m\u001b[38;5;241;43m=\u001b[39;49m\u001b[38;5;28;43mdict\u001b[39;49m\u001b[43m(\u001b[49m\u001b[43mclass_name\u001b[49m\u001b[38;5;241;43m=\u001b[39;49m\u001b[38;5;124;43m'\u001b[39;49m\u001b[38;5;124;43mhig_data.coco.CocoStuffGraphDataset\u001b[39;49m\u001b[38;5;124;43m'\u001b[39;49m\u001b[43m,\u001b[49m\n\u001b[1;32m      8\u001b[0m \u001b[43mimage_path\u001b[49m\u001b[38;5;241;43m=\u001b[39;49m\u001b[43mimg_path\u001b[49m\u001b[43m,\u001b[49m\u001b[43m \u001b[49m\u001b[43mmask_path\u001b[49m\u001b[38;5;241;43m=\u001b[39;49m\u001b[43mmask_path\u001b[49m\u001b[43m,\u001b[49m\u001b[43m \u001b[49m\u001b[43mlatent_images\u001b[49m\u001b[38;5;241;43m=\u001b[39;49m\u001b[38;5;28;43;01mTrue\u001b[39;49;00m\u001b[43m)\u001b[49m\u001b[43m,\u001b[49m\u001b[43m)\u001b[49m\n",
      "File \u001b[0;32m/rds/user/rfsm2/hpc-work/edm2_hig/training/training_loop_hignn.py:152\u001b[0m, in \u001b[0;36mtraining_loop\u001b[0;34m(dataset_kwargs, encoder_kwargs, data_loader_kwargs, network_kwargs, loss_kwargs, optimizer_kwargs, lr_kwargs, ema_kwargs, run_dir, seed, batch_size, batch_gpu, total_nimg, slice_nimg, status_nimg, snapshot_nimg, checkpoint_nimg, loss_scaling, force_finite, cudnn_benchmark, device, wandb_kwargs)\u001b[0m\n\u001b[1;32m    150\u001b[0m \u001b[38;5;66;03m# Main training loop.\u001b[39;00m\n\u001b[1;32m    151\u001b[0m dataset_sampler \u001b[38;5;241m=\u001b[39m misc\u001b[38;5;241m.\u001b[39mInfiniteSampler(dataset\u001b[38;5;241m=\u001b[39mdataset_obj, rank\u001b[38;5;241m=\u001b[39mdist\u001b[38;5;241m.\u001b[39mget_rank(), num_replicas\u001b[38;5;241m=\u001b[39mdist\u001b[38;5;241m.\u001b[39mget_world_size(), seed\u001b[38;5;241m=\u001b[39mseed, start_idx\u001b[38;5;241m=\u001b[39mstate\u001b[38;5;241m.\u001b[39mcur_nimg)\n\u001b[0;32m--> 152\u001b[0m dataset_iterator \u001b[38;5;241m=\u001b[39m \u001b[38;5;28;43miter\u001b[39;49m\u001b[43m(\u001b[49m\u001b[43mdnnlib\u001b[49m\u001b[38;5;241;43m.\u001b[39;49m\u001b[43mutil\u001b[49m\u001b[38;5;241;43m.\u001b[39;49m\u001b[43mconstruct_class_by_name\u001b[49m\u001b[43m(\u001b[49m\u001b[43mdataset\u001b[49m\u001b[38;5;241;43m=\u001b[39;49m\u001b[43mdataset_obj\u001b[49m\u001b[43m,\u001b[49m\u001b[43m \u001b[49m\u001b[43msampler\u001b[49m\u001b[38;5;241;43m=\u001b[39;49m\u001b[43mdataset_sampler\u001b[49m\u001b[43m,\u001b[49m\u001b[43m \u001b[49m\u001b[43mbatch_size\u001b[49m\u001b[38;5;241;43m=\u001b[39;49m\u001b[43mbatch_gpu\u001b[49m\u001b[43m,\u001b[49m\u001b[43m \u001b[49m\u001b[38;5;241;43m*\u001b[39;49m\u001b[38;5;241;43m*\u001b[39;49m\u001b[43mdata_loader_kwargs\u001b[49m\u001b[43m)\u001b[49m\u001b[43m)\u001b[49m\n\u001b[1;32m    153\u001b[0m prev_status_nimg \u001b[38;5;241m=\u001b[39m state\u001b[38;5;241m.\u001b[39mcur_nimg\n\u001b[1;32m    154\u001b[0m cumulative_training_time \u001b[38;5;241m=\u001b[39m \u001b[38;5;241m0\u001b[39m\n",
      "File \u001b[0;32m~/.conda/envs/edm2/lib/python3.12/site-packages/torch/utils/data/dataloader.py:440\u001b[0m, in \u001b[0;36mDataLoader.__iter__\u001b[0;34m(self)\u001b[0m\n\u001b[1;32m    438\u001b[0m     \u001b[38;5;28;01mreturn\u001b[39;00m \u001b[38;5;28mself\u001b[39m\u001b[38;5;241m.\u001b[39m_iterator\n\u001b[1;32m    439\u001b[0m \u001b[38;5;28;01melse\u001b[39;00m:\n\u001b[0;32m--> 440\u001b[0m     \u001b[38;5;28;01mreturn\u001b[39;00m \u001b[38;5;28;43mself\u001b[39;49m\u001b[38;5;241;43m.\u001b[39;49m\u001b[43m_get_iterator\u001b[49m\u001b[43m(\u001b[49m\u001b[43m)\u001b[49m\n",
      "File \u001b[0;32m~/.conda/envs/edm2/lib/python3.12/site-packages/torch/utils/data/dataloader.py:388\u001b[0m, in \u001b[0;36mDataLoader._get_iterator\u001b[0;34m(self)\u001b[0m\n\u001b[1;32m    386\u001b[0m \u001b[38;5;28;01melse\u001b[39;00m:\n\u001b[1;32m    387\u001b[0m     \u001b[38;5;28mself\u001b[39m\u001b[38;5;241m.\u001b[39mcheck_worker_number_rationality()\n\u001b[0;32m--> 388\u001b[0m     \u001b[38;5;28;01mreturn\u001b[39;00m \u001b[43m_MultiProcessingDataLoaderIter\u001b[49m\u001b[43m(\u001b[49m\u001b[38;5;28;43mself\u001b[39;49m\u001b[43m)\u001b[49m\n",
      "File \u001b[0;32m~/.conda/envs/edm2/lib/python3.12/site-packages/torch/utils/data/dataloader.py:1038\u001b[0m, in \u001b[0;36m_MultiProcessingDataLoaderIter.__init__\u001b[0;34m(self, loader)\u001b[0m\n\u001b[1;32m   1031\u001b[0m w\u001b[38;5;241m.\u001b[39mdaemon \u001b[38;5;241m=\u001b[39m \u001b[38;5;28;01mTrue\u001b[39;00m\n\u001b[1;32m   1032\u001b[0m \u001b[38;5;66;03m# NB: Process.start() actually take some time as it needs to\u001b[39;00m\n\u001b[1;32m   1033\u001b[0m \u001b[38;5;66;03m#     start a process and pass the arguments over via a pipe.\u001b[39;00m\n\u001b[1;32m   1034\u001b[0m \u001b[38;5;66;03m#     Therefore, we only add a worker to self._workers list after\u001b[39;00m\n\u001b[1;32m   1035\u001b[0m \u001b[38;5;66;03m#     it started, so that we do not call .join() if program dies\u001b[39;00m\n\u001b[1;32m   1036\u001b[0m \u001b[38;5;66;03m#     before it starts, and __del__ tries to join but will get:\u001b[39;00m\n\u001b[1;32m   1037\u001b[0m \u001b[38;5;66;03m#     AssertionError: can only join a started process.\u001b[39;00m\n\u001b[0;32m-> 1038\u001b[0m \u001b[43mw\u001b[49m\u001b[38;5;241;43m.\u001b[39;49m\u001b[43mstart\u001b[49m\u001b[43m(\u001b[49m\u001b[43m)\u001b[49m\n\u001b[1;32m   1039\u001b[0m \u001b[38;5;28mself\u001b[39m\u001b[38;5;241m.\u001b[39m_index_queues\u001b[38;5;241m.\u001b[39mappend(index_queue)\n\u001b[1;32m   1040\u001b[0m \u001b[38;5;28mself\u001b[39m\u001b[38;5;241m.\u001b[39m_workers\u001b[38;5;241m.\u001b[39mappend(w)\n",
      "File \u001b[0;32m~/.conda/envs/edm2/lib/python3.12/multiprocessing/process.py:121\u001b[0m, in \u001b[0;36mBaseProcess.start\u001b[0;34m(self)\u001b[0m\n\u001b[1;32m    118\u001b[0m \u001b[38;5;28;01massert\u001b[39;00m \u001b[38;5;129;01mnot\u001b[39;00m _current_process\u001b[38;5;241m.\u001b[39m_config\u001b[38;5;241m.\u001b[39mget(\u001b[38;5;124m'\u001b[39m\u001b[38;5;124mdaemon\u001b[39m\u001b[38;5;124m'\u001b[39m), \\\n\u001b[1;32m    119\u001b[0m        \u001b[38;5;124m'\u001b[39m\u001b[38;5;124mdaemonic processes are not allowed to have children\u001b[39m\u001b[38;5;124m'\u001b[39m\n\u001b[1;32m    120\u001b[0m _cleanup()\n\u001b[0;32m--> 121\u001b[0m \u001b[38;5;28mself\u001b[39m\u001b[38;5;241m.\u001b[39m_popen \u001b[38;5;241m=\u001b[39m \u001b[38;5;28;43mself\u001b[39;49m\u001b[38;5;241;43m.\u001b[39;49m\u001b[43m_Popen\u001b[49m\u001b[43m(\u001b[49m\u001b[38;5;28;43mself\u001b[39;49m\u001b[43m)\u001b[49m\n\u001b[1;32m    122\u001b[0m \u001b[38;5;28mself\u001b[39m\u001b[38;5;241m.\u001b[39m_sentinel \u001b[38;5;241m=\u001b[39m \u001b[38;5;28mself\u001b[39m\u001b[38;5;241m.\u001b[39m_popen\u001b[38;5;241m.\u001b[39msentinel\n\u001b[1;32m    123\u001b[0m \u001b[38;5;66;03m# Avoid a refcycle if the target function holds an indirect\u001b[39;00m\n\u001b[1;32m    124\u001b[0m \u001b[38;5;66;03m# reference to the process object (see bpo-30775)\u001b[39;00m\n",
      "File \u001b[0;32m~/.conda/envs/edm2/lib/python3.12/multiprocessing/context.py:224\u001b[0m, in \u001b[0;36mProcess._Popen\u001b[0;34m(process_obj)\u001b[0m\n\u001b[1;32m    222\u001b[0m \u001b[38;5;129m@staticmethod\u001b[39m\n\u001b[1;32m    223\u001b[0m \u001b[38;5;28;01mdef\u001b[39;00m \u001b[38;5;21m_Popen\u001b[39m(process_obj):\n\u001b[0;32m--> 224\u001b[0m     \u001b[38;5;28;01mreturn\u001b[39;00m \u001b[43m_default_context\u001b[49m\u001b[38;5;241;43m.\u001b[39;49m\u001b[43mget_context\u001b[49m\u001b[43m(\u001b[49m\u001b[43m)\u001b[49m\u001b[38;5;241;43m.\u001b[39;49m\u001b[43mProcess\u001b[49m\u001b[38;5;241;43m.\u001b[39;49m\u001b[43m_Popen\u001b[49m\u001b[43m(\u001b[49m\u001b[43mprocess_obj\u001b[49m\u001b[43m)\u001b[49m\n",
      "File \u001b[0;32m~/.conda/envs/edm2/lib/python3.12/multiprocessing/context.py:289\u001b[0m, in \u001b[0;36mSpawnProcess._Popen\u001b[0;34m(process_obj)\u001b[0m\n\u001b[1;32m    286\u001b[0m \u001b[38;5;129m@staticmethod\u001b[39m\n\u001b[1;32m    287\u001b[0m \u001b[38;5;28;01mdef\u001b[39;00m \u001b[38;5;21m_Popen\u001b[39m(process_obj):\n\u001b[1;32m    288\u001b[0m     \u001b[38;5;28;01mfrom\u001b[39;00m \u001b[38;5;21;01m.\u001b[39;00m\u001b[38;5;21;01mpopen_spawn_posix\u001b[39;00m \u001b[38;5;28;01mimport\u001b[39;00m Popen\n\u001b[0;32m--> 289\u001b[0m     \u001b[38;5;28;01mreturn\u001b[39;00m \u001b[43mPopen\u001b[49m\u001b[43m(\u001b[49m\u001b[43mprocess_obj\u001b[49m\u001b[43m)\u001b[49m\n",
      "File \u001b[0;32m~/.conda/envs/edm2/lib/python3.12/multiprocessing/popen_spawn_posix.py:32\u001b[0m, in \u001b[0;36mPopen.__init__\u001b[0;34m(self, process_obj)\u001b[0m\n\u001b[1;32m     30\u001b[0m \u001b[38;5;28;01mdef\u001b[39;00m \u001b[38;5;21m__init__\u001b[39m(\u001b[38;5;28mself\u001b[39m, process_obj):\n\u001b[1;32m     31\u001b[0m     \u001b[38;5;28mself\u001b[39m\u001b[38;5;241m.\u001b[39m_fds \u001b[38;5;241m=\u001b[39m []\n\u001b[0;32m---> 32\u001b[0m     \u001b[38;5;28;43msuper\u001b[39;49m\u001b[43m(\u001b[49m\u001b[43m)\u001b[49m\u001b[38;5;241;43m.\u001b[39;49m\u001b[38;5;21;43m__init__\u001b[39;49m\u001b[43m(\u001b[49m\u001b[43mprocess_obj\u001b[49m\u001b[43m)\u001b[49m\n",
      "File \u001b[0;32m~/.conda/envs/edm2/lib/python3.12/multiprocessing/popen_fork.py:19\u001b[0m, in \u001b[0;36mPopen.__init__\u001b[0;34m(self, process_obj)\u001b[0m\n\u001b[1;32m     17\u001b[0m \u001b[38;5;28mself\u001b[39m\u001b[38;5;241m.\u001b[39mreturncode \u001b[38;5;241m=\u001b[39m \u001b[38;5;28;01mNone\u001b[39;00m\n\u001b[1;32m     18\u001b[0m \u001b[38;5;28mself\u001b[39m\u001b[38;5;241m.\u001b[39mfinalizer \u001b[38;5;241m=\u001b[39m \u001b[38;5;28;01mNone\u001b[39;00m\n\u001b[0;32m---> 19\u001b[0m \u001b[38;5;28;43mself\u001b[39;49m\u001b[38;5;241;43m.\u001b[39;49m\u001b[43m_launch\u001b[49m\u001b[43m(\u001b[49m\u001b[43mprocess_obj\u001b[49m\u001b[43m)\u001b[49m\n",
      "File \u001b[0;32m~/.conda/envs/edm2/lib/python3.12/multiprocessing/popen_spawn_posix.py:47\u001b[0m, in \u001b[0;36mPopen._launch\u001b[0;34m(self, process_obj)\u001b[0m\n\u001b[1;32m     45\u001b[0m \u001b[38;5;28;01mtry\u001b[39;00m:\n\u001b[1;32m     46\u001b[0m     reduction\u001b[38;5;241m.\u001b[39mdump(prep_data, fp)\n\u001b[0;32m---> 47\u001b[0m     \u001b[43mreduction\u001b[49m\u001b[38;5;241;43m.\u001b[39;49m\u001b[43mdump\u001b[49m\u001b[43m(\u001b[49m\u001b[43mprocess_obj\u001b[49m\u001b[43m,\u001b[49m\u001b[43m \u001b[49m\u001b[43mfp\u001b[49m\u001b[43m)\u001b[49m\n\u001b[1;32m     48\u001b[0m \u001b[38;5;28;01mfinally\u001b[39;00m:\n\u001b[1;32m     49\u001b[0m     set_spawning_popen(\u001b[38;5;28;01mNone\u001b[39;00m)\n",
      "File \u001b[0;32m~/.conda/envs/edm2/lib/python3.12/multiprocessing/reduction.py:60\u001b[0m, in \u001b[0;36mdump\u001b[0;34m(obj, file, protocol)\u001b[0m\n\u001b[1;32m     58\u001b[0m \u001b[38;5;28;01mdef\u001b[39;00m \u001b[38;5;21mdump\u001b[39m(obj, file, protocol\u001b[38;5;241m=\u001b[39m\u001b[38;5;28;01mNone\u001b[39;00m):\n\u001b[1;32m     59\u001b[0m \u001b[38;5;250m    \u001b[39m\u001b[38;5;124;03m'''Replacement for pickle.dump() using ForkingPickler.'''\u001b[39;00m\n\u001b[0;32m---> 60\u001b[0m     \u001b[43mForkingPickler\u001b[49m\u001b[43m(\u001b[49m\u001b[43mfile\u001b[49m\u001b[43m,\u001b[49m\u001b[43m \u001b[49m\u001b[43mprotocol\u001b[49m\u001b[43m)\u001b[49m\u001b[38;5;241;43m.\u001b[39;49m\u001b[43mdump\u001b[49m\u001b[43m(\u001b[49m\u001b[43mobj\u001b[49m\u001b[43m)\u001b[49m\n",
      "\u001b[0;31mTypeError\u001b[0m: cannot pickle 'BufferedReader' instances"
     ]
    }
   ],
   "source": [
    "from training.training_loop_hignn import training_loop\n",
    "import torch\n",
    "from torch_utils import distributed as dist\n",
    "torch.multiprocessing.set_start_method('spawn')\n",
    "dist.init()\n",
    "dist.print0('Setting up training config...')\n",
    "training_loop(dataset_kwargs=dict(class_name='hig_data.coco.CocoStuffGraphDataset',\n",
    "image_path=img_path, mask_path=mask_path, latent_images=True),)"
   ]
  },
  {
   "cell_type": "code",
   "execution_count": null,
   "metadata": {},
   "outputs": [],
   "source": []
  }
 ],
 "metadata": {
  "kernelspec": {
   "display_name": "Python 3 (ipykernel)",
   "language": "python",
   "name": "python3"
  },
  "language_info": {
   "codemirror_mode": {
    "name": "ipython",
    "version": 3
   },
   "file_extension": ".py",
   "mimetype": "text/x-python",
   "name": "python",
   "nbconvert_exporter": "python",
   "pygments_lexer": "ipython3",
   "version": "3.12.4"
  }
 },
 "nbformat": 4,
 "nbformat_minor": 2
}
