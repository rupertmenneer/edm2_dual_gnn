{
 "cells": [
  {
   "cell_type": "code",
   "execution_count": 1,
   "metadata": {},
   "outputs": [
    {
     "name": "stderr",
     "output_type": "stream",
     "text": [
      "/opt/homebrew/lib/python3.11/site-packages/tqdm/auto.py:21: TqdmWarning: IProgress not found. Please update jupyter and ipywidgets. See https://ipywidgets.readthedocs.io/en/stable/user_install.html\n",
      "  from .autonotebook import tqdm as notebook_tqdm\n",
      "Using the latest cached version of the dataset since limingcv/Captioned_COCOStuff couldn't be found on the Hugging Face Hub\n",
      "Found the latest cached dataset configuration 'default' at /Users/rupertmenneer/.cache/huggingface/datasets/limingcv___captioned_coco_stuff/default/0.0.0/98bb1b8cbce93f9946f79c79e837e4b8502d094d (last modified on Tue Sep  3 17:19:48 2024).\n"
     ]
    },
    {
     "data": {
      "text/plain": [
       "RelaxedHeteroData(\n",
       "  image=[1, 3, 256, 256],\n",
       "  mask=[1, 1, 256, 256],\n",
       "  image_node={\n",
       "    x=[1024, 1],\n",
       "    pos=[1024, 2],\n",
       "  },\n",
       "  class_node={\n",
       "    x=[6, 183],\n",
       "    pos=[6, 2],\n",
       "  },\n",
       "  (class_node, class_edge, class_node)={ edge_index=[2, 30] },\n",
       "  (class_node, class_to_image, image_node)={ edge_index=[2, 1023] }\n",
       ")"
      ]
     },
     "execution_count": 1,
     "metadata": {},
     "output_type": "execute_result"
    }
   ],
   "source": [
    "from graph_datasets.coco import CocoStuffGraphDataset\n",
    "coco_graph = CocoStuffGraphDataset()\n",
    "data = coco_graph[1]\n",
    "data"
   ]
  },
  {
   "cell_type": "code",
   "execution_count": 2,
   "metadata": {},
   "outputs": [],
   "source": [
    "from training.networks_edm2_hignn import Precond\n",
    "precond = Precond(32, 3, gnn_metadata = data.metadata())"
   ]
  },
  {
   "cell_type": "code",
   "execution_count": 5,
   "metadata": {},
   "outputs": [
    {
     "data": {
      "text/plain": [
       "torch.Size([1, 3, 32, 32])"
      ]
     },
     "execution_count": 5,
     "metadata": {},
     "output_type": "execute_result"
    }
   ],
   "source": [
    "import torch\n",
    "images = torch.randn(1, 3, 32, 32)\n",
    "rnd_normal = torch.randn([images.shape[0], 1, 1, 1], device=images.device)\n",
    "sigma = (rnd_normal).exp()\n",
    "\n",
    "data = coco_graph[1]\n",
    "out = precond(images, sigma, data)\n",
    "out.shape"
   ]
  },
  {
   "cell_type": "code",
   "execution_count": 12,
   "metadata": {},
   "outputs": [
    {
     "name": "stdout",
     "output_type": "stream",
     "text": [
      "Loading dataset...\n",
      "Setting up encoder...\n",
      "ref_image torch.Size([1, 3, 256, 256])\n"
     ]
    },
    {
     "ename": "RuntimeError",
     "evalue": "The size of tensor a (2) must match the size of tensor b (4) at non-singleton dimension 1",
     "output_type": "error",
     "traceback": [
      "\u001b[0;31m---------------------------------------------------------------------------\u001b[0m",
      "\u001b[0;31mRuntimeError\u001b[0m                              Traceback (most recent call last)",
      "Cell \u001b[0;32mIn[12], line 3\u001b[0m\n\u001b[1;32m      1\u001b[0m \u001b[38;5;28;01mfrom\u001b[39;00m \u001b[38;5;21;01mtraining\u001b[39;00m\u001b[38;5;21;01m.\u001b[39;00m\u001b[38;5;21;01mtraining_loop_hignn\u001b[39;00m \u001b[38;5;28;01mimport\u001b[39;00m training_loop\n\u001b[0;32m----> 3\u001b[0m \u001b[43mtraining_loop\u001b[49m\u001b[43m(\u001b[49m\u001b[43mdevice\u001b[49m\u001b[38;5;241;43m=\u001b[39;49m\u001b[38;5;124;43m'\u001b[39;49m\u001b[38;5;124;43mcpu\u001b[39;49m\u001b[38;5;124;43m'\u001b[39;49m\u001b[43m)\u001b[49m\n",
      "File \u001b[0;32m~/Documents/git/edm2_dual_gnn/training/training_loop_hignn.py:116\u001b[0m, in \u001b[0;36mtraining_loop\u001b[0;34m(dataset_kwargs, encoder_kwargs, data_loader_kwargs, network_kwargs, loss_kwargs, optimizer_kwargs, lr_kwargs, ema_kwargs, run_dir, seed, batch_size, batch_gpu, total_nimg, slice_nimg, status_nimg, snapshot_nimg, checkpoint_nimg, loss_scaling, force_finite, cudnn_benchmark, device, wandb_project)\u001b[0m\n\u001b[1;32m    114\u001b[0m encoder \u001b[38;5;241m=\u001b[39m dnnlib\u001b[38;5;241m.\u001b[39mutil\u001b[38;5;241m.\u001b[39mconstruct_class_by_name(\u001b[38;5;241m*\u001b[39m\u001b[38;5;241m*\u001b[39mencoder_kwargs)\n\u001b[1;32m    115\u001b[0m \u001b[38;5;28mprint\u001b[39m(\u001b[38;5;124m'\u001b[39m\u001b[38;5;124mref_image\u001b[39m\u001b[38;5;124m'\u001b[39m, ref_image\u001b[38;5;241m.\u001b[39mshape)\n\u001b[0;32m--> 116\u001b[0m ref_image \u001b[38;5;241m=\u001b[39m \u001b[43mencoder\u001b[49m\u001b[38;5;241;43m.\u001b[39;49m\u001b[43mencode_latents\u001b[49m\u001b[43m(\u001b[49m\u001b[43mtorch\u001b[49m\u001b[38;5;241;43m.\u001b[39;49m\u001b[43mas_tensor\u001b[49m\u001b[43m(\u001b[49m\u001b[43mref_image\u001b[49m\u001b[43m)\u001b[49m\u001b[38;5;241;43m.\u001b[39;49m\u001b[43mto\u001b[49m\u001b[43m(\u001b[49m\u001b[43mdevice\u001b[49m\u001b[43m)\u001b[49m\u001b[43m)\u001b[49m\n\u001b[1;32m    117\u001b[0m dist\u001b[38;5;241m.\u001b[39mprint0(\u001b[38;5;124m'\u001b[39m\u001b[38;5;124mConstructing network...\u001b[39m\u001b[38;5;124m'\u001b[39m)\n\u001b[1;32m    118\u001b[0m interface_kwargs \u001b[38;5;241m=\u001b[39m \u001b[38;5;28mdict\u001b[39m(img_resolution\u001b[38;5;241m=\u001b[39mref_image\u001b[38;5;241m.\u001b[39mshape[\u001b[38;5;241m-\u001b[39m\u001b[38;5;241m1\u001b[39m], img_channels\u001b[38;5;241m=\u001b[39mref_image\u001b[38;5;241m.\u001b[39mshape[\u001b[38;5;241m1\u001b[39m],)\n",
      "File \u001b[0;32m~/Documents/git/edm2_dual_gnn/training/encoders.py:121\u001b[0m, in \u001b[0;36mStabilityVAEEncoder.encode_latents\u001b[0;34m(self, x)\u001b[0m\n\u001b[1;32m    119\u001b[0m mean, std \u001b[38;5;241m=\u001b[39m x\u001b[38;5;241m.\u001b[39mto(torch\u001b[38;5;241m.\u001b[39mfloat32)\u001b[38;5;241m.\u001b[39mchunk(\u001b[38;5;241m2\u001b[39m, dim\u001b[38;5;241m=\u001b[39m\u001b[38;5;241m1\u001b[39m)\n\u001b[1;32m    120\u001b[0m x \u001b[38;5;241m=\u001b[39m mean \u001b[38;5;241m+\u001b[39m torch\u001b[38;5;241m.\u001b[39mrandn_like(mean) \u001b[38;5;241m*\u001b[39m std\n\u001b[0;32m--> 121\u001b[0m x \u001b[38;5;241m=\u001b[39m \u001b[43mx\u001b[49m\u001b[43m \u001b[49m\u001b[38;5;241;43m*\u001b[39;49m\u001b[43m \u001b[49m\u001b[43mmisc\u001b[49m\u001b[38;5;241;43m.\u001b[39;49m\u001b[43mconst_like\u001b[49m\u001b[43m(\u001b[49m\u001b[43mx\u001b[49m\u001b[43m,\u001b[49m\u001b[43m \u001b[49m\u001b[38;5;28;43mself\u001b[39;49m\u001b[38;5;241;43m.\u001b[39;49m\u001b[43mscale\u001b[49m\u001b[43m)\u001b[49m\u001b[38;5;241;43m.\u001b[39;49m\u001b[43mreshape\u001b[49m\u001b[43m(\u001b[49m\u001b[38;5;241;43m1\u001b[39;49m\u001b[43m,\u001b[49m\u001b[43m \u001b[49m\u001b[38;5;241;43m-\u001b[39;49m\u001b[38;5;241;43m1\u001b[39;49m\u001b[43m,\u001b[49m\u001b[43m \u001b[49m\u001b[38;5;241;43m1\u001b[39;49m\u001b[43m,\u001b[49m\u001b[43m \u001b[49m\u001b[38;5;241;43m1\u001b[39;49m\u001b[43m)\u001b[49m\n\u001b[1;32m    122\u001b[0m x \u001b[38;5;241m=\u001b[39m x \u001b[38;5;241m+\u001b[39m misc\u001b[38;5;241m.\u001b[39mconst_like(x, \u001b[38;5;28mself\u001b[39m\u001b[38;5;241m.\u001b[39mbias)\u001b[38;5;241m.\u001b[39mreshape(\u001b[38;5;241m1\u001b[39m, \u001b[38;5;241m-\u001b[39m\u001b[38;5;241m1\u001b[39m, \u001b[38;5;241m1\u001b[39m, \u001b[38;5;241m1\u001b[39m)\n\u001b[1;32m    123\u001b[0m \u001b[38;5;28;01mreturn\u001b[39;00m x\n",
      "\u001b[0;31mRuntimeError\u001b[0m: The size of tensor a (2) must match the size of tensor b (4) at non-singleton dimension 1"
     ]
    }
   ],
   "source": [
    "from training.training_loop_hignn import training_loop\n",
    "\n",
    "training_loop(device='cpu')"
   ]
  },
  {
   "cell_type": "code",
   "execution_count": null,
   "metadata": {},
   "outputs": [],
   "source": []
  }
 ],
 "metadata": {
  "kernelspec": {
   "display_name": "Python 3",
   "language": "python",
   "name": "python3"
  },
  "language_info": {
   "codemirror_mode": {
    "name": "ipython",
    "version": 3
   },
   "file_extension": ".py",
   "mimetype": "text/x-python",
   "name": "python",
   "nbconvert_exporter": "python",
   "pygments_lexer": "ipython3",
   "version": "3.11.7"
  }
 },
 "nbformat": 4,
 "nbformat_minor": 2
}
