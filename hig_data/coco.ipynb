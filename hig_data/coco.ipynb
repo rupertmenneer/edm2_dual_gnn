{
 "cells": [
  {
   "cell_type": "code",
   "execution_count": 1,
   "metadata": {},
   "outputs": [],
   "source": [
    "from hig_data.coco import COCOStuffDataset\n",
    "\n",
    "img_path = '/Users/rupertmenneer/Downloads/coco_val2017_256-sd.zip'\n",
    "mask_path = '/Users/rupertmenneer/Downloads/coco_val2017_masks_256.zip'\n",
    "dataset = COCOStuffDataset(img_path, mask_path, 32)\n"
   ]
  },
  {
   "cell_type": "code",
   "execution_count": null,
   "metadata": {},
   "outputs": [],
   "source": [
    "from hig_data.coco import COCOStuffDataset, CocoStuffGraphDataset\n",
    "import torch\n",
    "img_path = '/Users/rupertmenneer/Downloads/coco_val2017_256-sd.zip'\n",
    "mask_path = '/Users/rupertmenneer/Downloads/coco_val2017_masks_256.zip'\n",
    "coco_graph = CocoStuffGraphDataset(img_path, mask_path, latent_images=True)\n",
    "data = coco_graph[4]\n",
    "data"
   ]
  },
  {
   "cell_type": "code",
   "execution_count": 1,
   "metadata": {},
   "outputs": [
    {
     "name": "stdout",
     "output_type": "stream",
     "text": [
      "Found 118287 complete datapoint in /home/rfsm2/rds/hpc-work/coco/coco_graph_train\n"
     ]
    },
    {
     "data": {
      "text/plain": [
       "RelaxedHeteroData(\n",
       "  image=[1, 8, 32, 32],\n",
       "  mask_path='/home/rfsm2/rds/hpc-work/coco/coco_graph_train/00047078_mask.npy',\n",
       "  image_node={\n",
       "    x=[1024, 1],\n",
       "    pos=[1024, 2],\n",
       "  },\n",
       "  class_node={\n",
       "    x=[6, 183],\n",
       "    pos=[6, 2],\n",
       "  },\n",
       "  (class_node, class_edge, class_node)={ edge_index=[2, 30] },\n",
       "  (class_node, class_to_image, image_node)={ edge_index=[2, 915] }\n",
       ")"
      ]
     },
     "execution_count": 1,
     "metadata": {},
     "output_type": "execute_result"
    }
   ],
   "source": [
    "from hig_data.coco import COCOStuffGraphPrecomputedDataset\n",
    "import torch\n",
    "path = '/home/rfsm2/rds/hpc-work/coco/coco_graph_train'\n",
    "coco_graph = COCOStuffGraphPrecomputedDataset(path)\n",
    "data = coco_graph[4]\n",
    "data"
   ]
  },
  {
   "cell_type": "code",
   "execution_count": null,
   "metadata": {},
   "outputs": [],
   "source": []
  },
  {
   "cell_type": "code",
   "execution_count": null,
   "metadata": {},
   "outputs": [],
   "source": [
    "coco_graph[10]"
   ]
  },
  {
   "cell_type": "code",
   "execution_count": 9,
   "metadata": {},
   "outputs": [],
   "source": [
    "from hig_data.coco import CocoStuffGraphDataset\n",
    "import numpy as np\n",
    "import os\n",
    "def create_graph_dataset_and_export(output_dir='/Users/rupertmenneer/Downloads/coco_graph'):\n",
    "\n",
    "    img_path = '/Users/rupertmenneer/Downloads/coco_val2017_256-sd.zip'\n",
    "    mask_path = '/Users/rupertmenneer/Downloads/coco_val2017_masks_256.zip'\n",
    "    coco_graph = CocoStuffGraphDataset(img_path, mask_path, latent_images=True)\n",
    "\n",
    "    for idx in range(len(coco_graph)):\n",
    "        image, mask = coco_graph.dataset[idx]\n",
    "        graph = coco_graph[idx]\n",
    "\n",
    "        name = coco_graph.dataset._fnames['image'][coco_graph.dataset._raw_idx[idx]]\n",
    "        raw_id = os.path.splitext(os.path.basename(name))[0].split('-')[-1]\n",
    "\n",
    "        np.save(os.path.join(output_dir, f'{raw_id}_image.npy'), image)\n",
    "        np.save(os.path.join(output_dir, f'{raw_id}_mask.npy'), mask)\n",
    "        np.savez(os.path.join(output_dir, f'{raw_id}_graph'),\n",
    "                 class_node=graph['class_node'].x,\n",
    "                 class_pos=graph['class_node'].pos,\n",
    "                 class_edge=graph['class_node', 'class_edge', 'class_node'].edge_index,\n",
    "                 class_to_image=graph['class_node', 'class_to_image', 'image_node'].edge_index,\n",
    "                 )\n",
    "\n",
    "create_graph_dataset_and_export()\n"
   ]
  },
  {
   "cell_type": "code",
   "execution_count": null,
   "metadata": {},
   "outputs": [],
   "source": []
  },
  {
   "cell_type": "code",
   "execution_count": null,
   "metadata": {},
   "outputs": [],
   "source": [
    "# from hig_data.coco import COCOStuffDataset, CocoStuffGraphDataset\n",
    "# import torch\n",
    "# img_path = '/Users/rupertmenneer/Downloads/coco_val2017_256-sd.zip'\n",
    "# mask_path = '/Users/rupertmenneer/Downloads/coco_val2017_masks_256.zip'\n",
    "# coco_graph = CocoStuffGraphDataset(img_path, mask_path, latent_images=True)\n",
    "# data = coco_graph[4]\n",
    "# data"
   ]
  },
  {
   "cell_type": "code",
   "execution_count": null,
   "metadata": {},
   "outputs": [],
   "source": [
    "# from hig_data.visualisation import convert_latents_to_pixels\n",
    "# import PIL\n",
    "# import numpy as np\n",
    "# print(data.image.shape)\n",
    "# img = convert_latents_to_pixels(data.image)\n",
    "\n",
    "# PIL.Image.fromarray(img)"
   ]
  },
  {
   "cell_type": "code",
   "execution_count": 2,
   "metadata": {},
   "outputs": [
    {
     "data": {
      "text/plain": [
       "(tensor([[  0.,   0.],\n",
       "         [  8.,   0.],\n",
       "         [ 16.,   0.],\n",
       "         ...,\n",
       "         [232., 248.],\n",
       "         [240., 248.],\n",
       "         [248., 248.]]),\n",
       " tensor([[123.1362, 137.9477],\n",
       "         [112.9163, 112.6696],\n",
       "         [  0.0000,   0.0000],\n",
       "         ...,\n",
       "         [229.3333,  89.3333],\n",
       "         [164.6629, 183.6800],\n",
       "         [126.7200,  37.1200]]))"
      ]
     },
     "execution_count": 2,
     "metadata": {},
     "output_type": "execute_result"
    }
   ],
   "source": [
    "from torch_geometric.loader import DataLoader as GeoDataLoader\n",
    "dls = GeoDataLoader(coco_graph, batch_size=1024, shuffle=True)\n",
    "graph_batch = next(iter(dls))\n",
    "graph_batch\n",
    "\n",
    "graph_batch['image_node'].pos, graph_batch['class_node'].pos"
   ]
  },
  {
   "cell_type": "code",
   "execution_count": 3,
   "metadata": {},
   "outputs": [
    {
     "name": "stdout",
     "output_type": "stream",
     "text": [
      "0 torch.Size([1024, 8, 32, 32])\n",
      "1 torch.Size([1024, 8, 32, 32])\n",
      "2 torch.Size([1024, 8, 32, 32])\n",
      "3 torch.Size([1024, 8, 32, 32])\n"
     ]
    }
   ],
   "source": [
    "for i, (batch) in enumerate(dls):\n",
    "    print(i, graph_batch.image.shape)"
   ]
  },
  {
   "cell_type": "code",
   "execution_count": null,
   "metadata": {},
   "outputs": [],
   "source": [
    "graph_batch['image_node'].pos, graph_batch['class_node'].pos"
   ]
  },
  {
   "cell_type": "code",
   "execution_count": null,
   "metadata": {},
   "outputs": [],
   "source": [
    "# from hig_data.visualisation import save_image_batch_list\n",
    "# print(graph_batch.image.shape)\n",
    "# np_img = graph_batch.image[:, :3].cpu().numpy().transpose(0, 2, 3, 1)\n",
    "# save_image_batch_list([np_img,np_img], row_labels=['img', 'img'], sample_batch_size=8)"
   ]
  },
  {
   "cell_type": "code",
   "execution_count": null,
   "metadata": {},
   "outputs": [],
   "source": [
    "from hig_data.visualisation import logging_generate_sample_vis, visualise_het_graph_on_image_batch, plot_array_images\n",
    "# logging_generate_sample_vis(graph_batch, resize_mask=True)\n",
    "from training.encoders import StabilityVAEEncoder\n",
    "vae = StabilityVAEEncoder()\n",
    "img, decoded = visualise_het_graph_on_image_batch(graph_batch, vae=vae,)\n",
    "print(img.shape)\n",
    "plot_array_images(img)\n"
   ]
  },
  {
   "cell_type": "code",
   "execution_count": null,
   "metadata": {},
   "outputs": [],
   "source": [
    "plot_array_images(decoded)"
   ]
  },
  {
   "cell_type": "code",
   "execution_count": null,
   "metadata": {},
   "outputs": [],
   "source": []
  },
  {
   "cell_type": "code",
   "execution_count": null,
   "metadata": {},
   "outputs": [],
   "source": [
    "from training.networks_edm2_hignn import Precond\n",
    "precond = Precond(32, 3, gnn_metadata = data.metadata())"
   ]
  },
  {
   "cell_type": "code",
   "execution_count": null,
   "metadata": {},
   "outputs": [],
   "source": [
    "import torch\n",
    "images = torch.randn(1, 3, 32, 32)\n",
    "rnd_normal = torch.randn([images.shape[0], 1, 1, 1], device=images.device)\n",
    "sigma = (rnd_normal).exp()\n",
    "\n",
    "data = coco_graph[1]\n",
    "out = precond(images, sigma, data)\n",
    "out.shape"
   ]
  }
 ],
 "metadata": {
  "kernelspec": {
   "display_name": "Python 3 (ipykernel)",
   "language": "python",
   "name": "python3"
  },
  "language_info": {
   "codemirror_mode": {
    "name": "ipython",
    "version": 3
   },
   "file_extension": ".py",
   "mimetype": "text/x-python",
   "name": "python",
   "nbconvert_exporter": "python",
   "pygments_lexer": "ipython3",
   "version": "3.12.4"
  }
 },
 "nbformat": 4,
 "nbformat_minor": 2
}
